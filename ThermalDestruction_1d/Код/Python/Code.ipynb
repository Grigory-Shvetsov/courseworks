{
 "cells": [
  {
   "attachments": {},
   "cell_type": "markdown",
   "metadata": {},
   "source": [
    "Библиотеки"
   ]
  },
  {
   "cell_type": "code",
   "execution_count": 21,
   "metadata": {},
   "outputs": [],
   "source": [
    "from ast import While\n",
    "from cmath import sqrt\n",
    "from unittest.util import _MIN_DIFF_LEN\n",
    "from sympy.tensor.array import derive_by_array\n",
    "from scipy import optimize\n",
    "import numpy as np\n",
    "import sympy as sp\n",
    "import math\n",
    "import matplotlib.pyplot as plt\n",
    "import scipy.optimize as opt\n",
    "from sympy import *\n",
    "import scipy\n"
   ]
  },
  {
   "attachments": {},
   "cell_type": "markdown",
   "metadata": {},
   "source": [
    "Константы"
   ]
  },
  {
   "cell_type": "code",
   "execution_count": 22,
   "metadata": {},
   "outputs": [],
   "source": [
    "A = -0.024\n",
    "B = 1.69\n",
    "CC = 0.5\n",
    "alpha = 10**-5 # K^-1 \n",
    "T0 = 300 # K \n",
    "T_avg = 300 # K \n",
    "Young = 1.75 * 10**11 # Па\n",
    "sigma_f = 1.1 * 10**8 # Па \n",
    "eps_f = 0.000628571\n",
    "l = 10 # Длина стержня\n",
    "T_f = 4 # Конечный момент времени  \n",
    "h_t = 0.005 # Шаг времени \n",
    "a = 50 # Просто константа\n",
    "n = 11 # Число узлов сетки\n",
    "h = l/(n-1)  # Шаг сетки"
   ]
  },
  {
   "attachments": {},
   "cell_type": "markdown",
   "metadata": {},
   "source": [
    "Дифференцирование"
   ]
  },
  {
   "attachments": {},
   "cell_type": "markdown",
   "metadata": {},
   "source": [
    "Необходимые функции"
   ]
  },
  {
   "cell_type": "code",
   "execution_count": 23,
   "metadata": {},
   "outputs": [],
   "source": [
    "def TT(x,t):\n",
    "    return T_avg + F(x)*tau(t)\n",
    "\n",
    "def F(x):\n",
    "    return a*math.sin(pi*x/l)\n",
    "\n",
    "# def tau(t):\n",
    "#     return t*math.sin(t)\n",
    "\n",
    "def tau(t):\n",
    "    return (t+1)*math.cos(pi*(t**2))\n",
    "\n",
    "def EpsT(x,t):\n",
    "   alpha * (TT(x,t) - T0)\n"
   ]
  },
  {
   "cell_type": "code",
   "execution_count": 24,
   "metadata": {},
   "outputs": [
    {
     "name": "stdout",
     "output_type": "stream",
     "text": [
      "5.0e-5*pi*t*sin(t)*cos(pi*x/10)\n"
     ]
    }
   ],
   "source": [
    "from sympy import diff, symbols, cos, sin\n",
    "x = sp.Symbol('x')\n",
    "t = sp.Symbol('t')\n",
    "duu = alpha * (T_avg + (a * sin(pi * x/l)) * (t * sin(t)) - T0) \n",
    "u = duu.diff(x)\n",
    "print(u)\n"
   ]
  },
  {
   "cell_type": "code",
   "execution_count": 25,
   "metadata": {},
   "outputs": [],
   "source": [
    "def isCorrectArray(a):\n",
    "    n = len(a)\n",
    "    \n",
    "    for row in range(0, n):\n",
    "        if( len(a[row]) != n ):\n",
    "            print('Не соответствует размерность')\n",
    "            return False\n",
    "        \n",
    "    for row in range(1, n - 1):\n",
    "        if(abs(a[row][row]) < abs(a[row][row - 1]) + abs(a[row][row + 1])):\n",
    "            print('Не выполнены условия достаточности')\n",
    "            return False\n",
    " \n",
    "    if (abs(a[0][0]) < abs(a[0][1]))or(abs(a[n - 1][n - 1]) < abs(a[n - 1][n - 2])):\n",
    "        print('Не выполнены условия достаточности')\n",
    "        return False\n",
    "        \n",
    "    \n",
    "    for row in range(0, len(a)):\n",
    "        if( a[row][row] == 0 ):\n",
    "            print('Нулевые элементы на главной диагонали')\n",
    "            return False\n",
    "    return True\n",
    " \n",
    " \n",
    " \n",
    "# Процедура нахождения решения 3-х диагональной матрицы\n",
    "def solution(a, b):\n",
    "    if( not isCorrectArray(a) ):\n",
    "        print('Ошибка в исходных данных')\n",
    "        return -1 \n",
    " \n",
    "    n = len(a)\n",
    "    x = [0 for k in range(0, n)] # обнуление вектора решений\n",
    "    print('Размерность матрицы: ',n,'x',n)\n",
    "    \n",
    "    # Прямой ход\n",
    "    v = [0 for k in range(0, n)]\n",
    "    u = [0 for k in range(0, n)]\n",
    "    # для первой 0-й строки\n",
    "    v[0] = a[0][1] / (-a[0][0]) \n",
    "    u[0] = ( - b[0]) / (-a[0][0]) \n",
    "    for i in range(1, n - 1): # заполняем за исключением 1-й и (n-1)-й строк матрицы\n",
    "        v[i] = a[i][i+1] / ( -a[i][i] - a[i][i-1]*v[i-1] )\n",
    "        u[i] = ( a[i][i-1]*u[i-1] - b[i] ) / ( -a[i][i] - a[i][i-1]*v[i-1] )\n",
    "    # для последней (n-1)-й строки\n",
    "    v[n-1] = 0\n",
    "    u[n-1] = (a[n-1][n-2]*u[n-2] - b[n-1]) / (-a[n-1][n-1] - a[n-1][n-2]*v[n-2])\n",
    "    \n",
    "    print_arr('Прогоночные коэффициенты v: ','v', v)\n",
    "    print_arr('Прогоночные коэффициенты u: ','u', u)\n",
    "    \n",
    "    # Обратный ход\n",
    "    x[n-1] = u[n-1]\n",
    "    for i in range(n-1, 0, -1):\n",
    "        x[i-1] = v[i-1] * x[i] + u[i-1]\n",
    "        \n",
    "    return x    "
   ]
  },
  {
   "attachments": {},
   "cell_type": "markdown",
   "metadata": {},
   "source": [
    "Численное решение (Метод конечных разностей)"
   ]
  },
  {
   "cell_type": "code",
   "execution_count": 27,
   "metadata": {},
   "outputs": [
    {
     "name": "stdout",
     "output_type": "stream",
     "text": [
      "[[ 1.  0.  0.  0.  0.  0.  0.  0.  0.  0.  0.  0.]\n",
      " [ 1. -2.  1.  0.  0.  0.  0.  0.  0.  0.  0.  0.]\n",
      " [ 0.  1. -2.  1.  0.  0.  0.  0.  0.  0.  0.  0.]\n",
      " [ 0.  0.  1. -2.  1.  0.  0.  0.  0.  0.  0.  0.]\n",
      " [ 0.  0.  0.  1. -2.  1.  0.  0.  0.  0.  0.  0.]\n",
      " [ 0.  0.  0.  0.  1. -2.  1.  0.  0.  0.  0.  0.]\n",
      " [ 0.  0.  0.  0.  0.  1. -2.  1.  0.  0.  0.  0.]\n",
      " [ 0.  0.  0.  0.  0.  0.  1. -2.  1.  0.  0.  0.]\n",
      " [ 0.  0.  0.  0.  0.  0.  0.  1. -2.  1.  0.  0.]\n",
      " [ 0.  0.  0.  0.  0.  0.  0.  0.  1. -2.  1.  0.]\n",
      " [ 0.  0.  0.  0.  0.  0.  0.  0.  0.  1. -2.  1.]\n",
      " [ 0.  0.  0.  0.  0.  0.  0.  0.  0.  0.  0.  1.]]\n",
      "11\n"
     ]
    },
    {
     "ename": "ValueError",
     "evalue": "object arrays are not supported",
     "output_type": "error",
     "traceback": [
      "\u001b[1;31m---------------------------------------------------------------------------\u001b[0m",
      "\u001b[1;31mValueError\u001b[0m                                Traceback (most recent call last)",
      "Cell \u001b[1;32mIn [27], line 32\u001b[0m\n\u001b[0;32m     27\u001b[0m \u001b[39mprint\u001b[39m(\u001b[39mlen\u001b[39m(values))\n\u001b[0;32m     28\u001b[0m \u001b[39m# print(values)\u001b[39;00m\n\u001b[0;32m     29\u001b[0m \n\u001b[0;32m     30\u001b[0m \u001b[39m# u = np.dot(np.linalg.inv(H),values)\u001b[39;00m\n\u001b[0;32m     31\u001b[0m \u001b[39m# print(u)\u001b[39;00m\n\u001b[1;32m---> 32\u001b[0m u \u001b[39m=\u001b[39m scipy\u001b[39m.\u001b[39mlinalg\u001b[39m.\u001b[39msolve(H, values)\n\u001b[0;32m     33\u001b[0m \u001b[39mprint\u001b[39m(\u001b[39mlen\u001b[39m(u))\n\u001b[0;32m     34\u001b[0m du \u001b[39m=\u001b[39m np\u001b[39m.\u001b[39marray([\u001b[39m0\u001b[39m])\n",
      "File \u001b[1;32mc:\\Users\\griho\\AppData\\Local\\Programs\\Python\\Python310\\lib\\site-packages\\scipy\\linalg\\_basic.py:141\u001b[0m, in \u001b[0;36msolve\u001b[1;34m(a, b, sym_pos, lower, overwrite_a, overwrite_b, check_finite, assume_a, transposed)\u001b[0m\n\u001b[0;32m    138\u001b[0m b_is_1D \u001b[39m=\u001b[39m \u001b[39mFalse\u001b[39;00m\n\u001b[0;32m    140\u001b[0m a1 \u001b[39m=\u001b[39m atleast_2d(_asarray_validated(a, check_finite\u001b[39m=\u001b[39mcheck_finite))\n\u001b[1;32m--> 141\u001b[0m b1 \u001b[39m=\u001b[39m atleast_1d(_asarray_validated(b, check_finite\u001b[39m=\u001b[39;49mcheck_finite))\n\u001b[0;32m    142\u001b[0m n \u001b[39m=\u001b[39m a1\u001b[39m.\u001b[39mshape[\u001b[39m0\u001b[39m]\n\u001b[0;32m    144\u001b[0m overwrite_a \u001b[39m=\u001b[39m overwrite_a \u001b[39mor\u001b[39;00m _datacopied(a1, a)\n",
      "File \u001b[1;32mc:\\Users\\griho\\AppData\\Local\\Programs\\Python\\Python310\\lib\\site-packages\\scipy\\_lib\\_util.py:290\u001b[0m, in \u001b[0;36m_asarray_validated\u001b[1;34m(a, check_finite, sparse_ok, objects_ok, mask_ok, as_inexact)\u001b[0m\n\u001b[0;32m    288\u001b[0m \u001b[39mif\u001b[39;00m \u001b[39mnot\u001b[39;00m objects_ok:\n\u001b[0;32m    289\u001b[0m     \u001b[39mif\u001b[39;00m a\u001b[39m.\u001b[39mdtype \u001b[39mis\u001b[39;00m np\u001b[39m.\u001b[39mdtype(\u001b[39m'\u001b[39m\u001b[39mO\u001b[39m\u001b[39m'\u001b[39m):\n\u001b[1;32m--> 290\u001b[0m         \u001b[39mraise\u001b[39;00m \u001b[39mValueError\u001b[39;00m(\u001b[39m'\u001b[39m\u001b[39mobject arrays are not supported\u001b[39m\u001b[39m'\u001b[39m)\n\u001b[0;32m    291\u001b[0m \u001b[39mif\u001b[39;00m as_inexact:\n\u001b[0;32m    292\u001b[0m     \u001b[39mif\u001b[39;00m \u001b[39mnot\u001b[39;00m np\u001b[39m.\u001b[39missubdtype(a\u001b[39m.\u001b[39mdtype, np\u001b[39m.\u001b[39minexact):\n",
      "\u001b[1;31mValueError\u001b[0m: object arrays are not supported"
     ]
    }
   ],
   "source": [
    "sigma = np.zeros(n)\n",
    "sigma_fv = np.full(n,sigma_f)\n",
    "eps = np.zeros(n)\n",
    "eps_e = np.zeros(n)\n",
    "eps_T = np.zeros(n)\n",
    "eps_crk = np.zeros(n)\n",
    "T = np.zeros(n)\n",
    "\n",
    "\n",
    "points = [i for i in range(n+1)]\n",
    "# H = np.diag(1/(h**2),-1)+ np.diag(2/(h**2), 0) + np.diag(1/h**2,1)\n",
    "H = np.diag(np.full(n+1,-2))+np.diag(np.ones(n),1)+np.diag(np.ones(n),-1)\n",
    "H[0,0]=1\n",
    "H[0,1]=0\n",
    "H[n,n]=1\n",
    "H[n,n-1]=0\n",
    "print(H)\n",
    "\n",
    "def f1(x,t):\n",
    "    return a*alpha*pi*(1+t) * cos(pi*(t**2))*cos(pi*x/l)\n",
    "\n",
    "values = [0.0]\n",
    "for i in range(1,n-1):\n",
    "    values.append(f1(i,t))\n",
    "    # print(i)\n",
    "values.append(0)\n",
    "print(len(values))\n",
    "# print(values)\n",
    "\n",
    "# u = np.dot(np.linalg.inv(H),values)\n",
    "# print(u)\n",
    "u = scipy.linalg.solve(H, values)\n",
    "print(len(u))\n",
    "du = np.array([0])\n",
    "for i in range(1,n):\n",
    "    du = np.append(du,(u[i+1]-u[i-1])/(2*h)) #центральная производная\n",
    "\n",
    "print(len(du))\n",
    "\n",
    "# def fff(q,tt):\n",
    "#     t = tt\n",
    "#     return q\n",
    "\n",
    "# data = np.array([])\n",
    "\n",
    "# T_array = np.arange(0,T_f+h_t,h_t)\n",
    "# for tt in T_array:\n",
    "#     temp = np.array([])\n",
    "#     for i in range(0,n-1):\n",
    "#         T[i] = TT(points[i],tt)\n",
    "#         eps[i] = float(du[i]) #полные деформации\n",
    "#         print(eps[i])\n",
    "#         eps_T[i] = alpha * (T[i] - T0) #температурные деформации\n",
    "#         eps_e[i] = eps[i]-eps_T[i]-eps_crk[i] #упругие деформации\n",
    "#         if Young * eps_e[i] < sigma_fv[i]:\n",
    "#             sigma[i] = Young * eps_e[i]\n",
    "#         else:\n",
    "#             sigma_fv[i] = sigma_f * (A+B*exp(-CC * (eps[i] - eps_T[i])/eps_f))\n",
    "#             sigma[i] = sigma_fv[i]\n",
    "#             eps_crk[i] = eps[i] - eps_T[i] - sigma[i]/Young\n",
    "#             def g(x):\n",
    "#                 return sigma_f * (A+B*exp(-CC * (x + eps_crk[i])/eps_f))-sigma_fv[i]\n",
    "#             # eps_e[i] = optimize.newton(g, 1.5)\n",
    "#             # eps_e[i]= optimize.root(g, -400000)\n",
    "#         # print(eps[i])\n",
    "#         temp = np.append(temp,[tt,T[i],sigma[i],eps[i],eps[i]-eps_T[i],eps_crk[i]])\n",
    "#     data = np.append(data,temp)\n",
    "\n",
    "# data = data.reshape(int((T_f/h_t)+1),((n-1)-1+1),6)\n"
   ]
  },
  {
   "attachments": {},
   "cell_type": "markdown",
   "metadata": {},
   "source": [
    "***Графики***"
   ]
  },
  {
   "cell_type": "code",
   "execution_count": null,
   "metadata": {},
   "outputs": [
    {
     "ename": "NameError",
     "evalue": "name 'data' is not defined",
     "output_type": "error",
     "traceback": [
      "\u001b[1;31m---------------------------------------------------------------------------\u001b[0m",
      "\u001b[1;31mNameError\u001b[0m                                 Traceback (most recent call last)",
      "Cell \u001b[1;32mIn [9], line 3\u001b[0m\n\u001b[0;32m      1\u001b[0m times \u001b[39m=\u001b[39m \u001b[39mint\u001b[39m(T_f\u001b[39m/\u001b[39mh_t)\n\u001b[0;32m      2\u001b[0m \u001b[39m# print(data[0][0])\u001b[39;00m\n\u001b[1;32m----> 3\u001b[0m time \u001b[39m=\u001b[39m [(\u001b[39mlambda\u001b[39;00m i: data[i][\u001b[39m1\u001b[39m][\u001b[39m0\u001b[39m])(i) \u001b[39mfor\u001b[39;00m i \u001b[39min\u001b[39;00m \u001b[39mrange\u001b[39m(\u001b[39m0\u001b[39m, times)]\n\u001b[0;32m      4\u001b[0m eps \u001b[39m=\u001b[39m [(\u001b[39mlambda\u001b[39;00m i: data[i][\u001b[39m1\u001b[39m][\u001b[39m3\u001b[39m])(i) \u001b[39mfor\u001b[39;00m i \u001b[39min\u001b[39;00m \u001b[39mrange\u001b[39m(\u001b[39m0\u001b[39m,times)]\n\u001b[0;32m      5\u001b[0m sigma \u001b[39m=\u001b[39m [(\u001b[39mlambda\u001b[39;00m i: data[i][\u001b[39m1\u001b[39m][\u001b[39m2\u001b[39m])(i) \u001b[39mfor\u001b[39;00m i \u001b[39min\u001b[39;00m \u001b[39mrange\u001b[39m(\u001b[39m0\u001b[39m,times)]\n",
      "Cell \u001b[1;32mIn [9], line 3\u001b[0m, in \u001b[0;36m<listcomp>\u001b[1;34m(.0)\u001b[0m\n\u001b[0;32m      1\u001b[0m times \u001b[39m=\u001b[39m \u001b[39mint\u001b[39m(T_f\u001b[39m/\u001b[39mh_t)\n\u001b[0;32m      2\u001b[0m \u001b[39m# print(data[0][0])\u001b[39;00m\n\u001b[1;32m----> 3\u001b[0m time \u001b[39m=\u001b[39m [(\u001b[39mlambda\u001b[39;49;00m i: data[i][\u001b[39m1\u001b[39;49m][\u001b[39m0\u001b[39;49m])(i) \u001b[39mfor\u001b[39;00m i \u001b[39min\u001b[39;00m \u001b[39mrange\u001b[39m(\u001b[39m0\u001b[39m, times)]\n\u001b[0;32m      4\u001b[0m eps \u001b[39m=\u001b[39m [(\u001b[39mlambda\u001b[39;00m i: data[i][\u001b[39m1\u001b[39m][\u001b[39m3\u001b[39m])(i) \u001b[39mfor\u001b[39;00m i \u001b[39min\u001b[39;00m \u001b[39mrange\u001b[39m(\u001b[39m0\u001b[39m,times)]\n\u001b[0;32m      5\u001b[0m sigma \u001b[39m=\u001b[39m [(\u001b[39mlambda\u001b[39;00m i: data[i][\u001b[39m1\u001b[39m][\u001b[39m2\u001b[39m])(i) \u001b[39mfor\u001b[39;00m i \u001b[39min\u001b[39;00m \u001b[39mrange\u001b[39m(\u001b[39m0\u001b[39m,times)]\n",
      "Cell \u001b[1;32mIn [9], line 3\u001b[0m, in \u001b[0;36m<lambda>\u001b[1;34m(i)\u001b[0m\n\u001b[0;32m      1\u001b[0m times \u001b[39m=\u001b[39m \u001b[39mint\u001b[39m(T_f\u001b[39m/\u001b[39mh_t)\n\u001b[0;32m      2\u001b[0m \u001b[39m# print(data[0][0])\u001b[39;00m\n\u001b[1;32m----> 3\u001b[0m time \u001b[39m=\u001b[39m [(\u001b[39mlambda\u001b[39;00m i: data[i][\u001b[39m1\u001b[39m][\u001b[39m0\u001b[39m])(i) \u001b[39mfor\u001b[39;00m i \u001b[39min\u001b[39;00m \u001b[39mrange\u001b[39m(\u001b[39m0\u001b[39m, times)]\n\u001b[0;32m      4\u001b[0m eps \u001b[39m=\u001b[39m [(\u001b[39mlambda\u001b[39;00m i: data[i][\u001b[39m1\u001b[39m][\u001b[39m3\u001b[39m])(i) \u001b[39mfor\u001b[39;00m i \u001b[39min\u001b[39;00m \u001b[39mrange\u001b[39m(\u001b[39m0\u001b[39m,times)]\n\u001b[0;32m      5\u001b[0m sigma \u001b[39m=\u001b[39m [(\u001b[39mlambda\u001b[39;00m i: data[i][\u001b[39m1\u001b[39m][\u001b[39m2\u001b[39m])(i) \u001b[39mfor\u001b[39;00m i \u001b[39min\u001b[39;00m \u001b[39mrange\u001b[39m(\u001b[39m0\u001b[39m,times)]\n",
      "\u001b[1;31mNameError\u001b[0m: name 'data' is not defined"
     ]
    }
   ],
   "source": [
    "times = int(T_f/h_t)\n",
    "# print(data[0][0])\n",
    "time = [(lambda i: data[i][1][0])(i) for i in range(0, times)]\n",
    "eps = [(lambda i: data[i][1][3])(i) for i in range(0,times)]\n",
    "sigma = [(lambda i: data[i][1][2])(i) for i in range(0,times)]\n",
    "eps_eps_T = [(lambda i: data[i][1][4])(i) for i in range(0,times)]\n",
    "eps_crk = [(lambda i: data[i][1][5])(i) for i in range(0,times)]\n",
    "norm_eps = [(lambda i: data[i][1][4]/eps_f)(i) for i in range(0,times)]\n",
    "norm_sigma = [(lambda i: data[i][1][2]/sigma_f)(i) for i in range(0,times)]\n",
    "T = [(lambda i: data[i][1][1])(i) for i in range(0,times)]\n",
    "\n",
    "# print(eps)\n",
    "fig = plt.figure(figsize=(12,12))\n",
    "\n",
    "axes1 = fig.add_subplot(3, 2, 1)\n",
    "axes2 = fig.add_subplot(3, 2, 2)\n",
    "axes3 = fig.add_subplot(3, 2, 3)\n",
    "axes4 = fig.add_subplot(3, 2, 4)\n",
    "axes5 = fig.add_subplot(3, 2, 5)\n",
    "axes6 = fig.add_subplot(3, 2, 6)\n",
    "\n",
    "\n",
    "axes1.plot(time,eps)\n",
    "axes1.set_xlabel('$t$')\n",
    "axes1.set_ylabel('$eps$')\n",
    "\n",
    "axes2.plot(time,sigma)\n",
    "axes2.set_xlabel('$t$')\n",
    "axes2.set_ylabel('$sigma$')\n",
    "\n",
    "axes3.plot(time,eps_crk)\n",
    "axes3.set_xlabel('$t$')\n",
    "axes3.set_ylabel('$eps_{crk}$')\n",
    "\n",
    "axes4.plot(eps_eps_T,sigma)\n",
    "axes4.set_xlabel('$eps-eps_T$')\n",
    "axes4.set_ylabel('$sigma$')\n",
    "\n",
    "axes5.plot(norm_eps,norm_sigma)\n",
    "axes5.set_xlabel('$norm_{eps}$')\n",
    "axes5.set_ylabel('$norm_{sigma}$')\n",
    "\n",
    "axes6.plot(time,T)\n",
    "axes6.set_xlabel('$t$')\n",
    "axes6.set_ylabel('$T$')\n",
    "\n",
    "fig. tight_layout (h_pad=5)\n",
    "# plt.tight_layout(pad=0.4, w_pad=0.5, h_pad=1.0)\n",
    "\n",
    "plt.show()"
   ]
  },
  {
   "cell_type": "code",
   "execution_count": null,
   "metadata": {},
   "outputs": [],
   "source": []
  }
 ],
 "metadata": {
  "kernelspec": {
   "display_name": "Python 3",
   "language": "python",
   "name": "python3"
  },
  "language_info": {
   "codemirror_mode": {
    "name": "ipython",
    "version": 3
   },
   "file_extension": ".py",
   "mimetype": "text/x-python",
   "name": "python",
   "nbconvert_exporter": "python",
   "pygments_lexer": "ipython3",
   "version": "3.10.7 (tags/v3.10.7:6cc6b13, Sep  5 2022, 14:08:36) [MSC v.1933 64 bit (AMD64)]"
  },
  "orig_nbformat": 4,
  "vscode": {
   "interpreter": {
    "hash": "3f885a4b7a69a006dee86a89cfa27939783cd21011a51a27a075a04530a046ce"
   }
  }
 },
 "nbformat": 4,
 "nbformat_minor": 2
}

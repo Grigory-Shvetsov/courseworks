{
 "cells": [
  {
   "cell_type": "code",
   "execution_count": 9,
   "metadata": {},
   "outputs": [],
   "source": [
    "from sympy.tensor.array import derive_by_array\n",
    "import matplotlib.pyplot as plt\n",
    "import scipy.optimize as opt\n",
    "import numpy as np\n",
    "import sympy as sp\n",
    "import math\n",
    "from expression import pipe"
   ]
  },
  {
   "cell_type": "code",
   "execution_count": 19,
   "metadata": {},
   "outputs": [
    {
     "name": "stderr",
     "output_type": "stream",
     "text": [
      "Traceback (most recent call last):\n",
      "  File \"_pydevd_bundle/pydevd_cython.pyx\", line 1134, in _pydevd_bundle.pydevd_cython.PyDBFrame.trace_dispatch\n",
      "  File \"_pydevd_bundle/pydevd_cython.pyx\", line 311, in _pydevd_bundle.pydevd_cython.PyDBFrame.do_wait_suspend\n",
      "  File \"C:\\Users\\griho\\AppData\\Roaming\\Python\\Python310\\site-packages\\debugpy\\_vendored\\pydevd\\pydevd.py\", line 2062, in do_wait_suspend\n",
      "    keep_suspended = self._do_wait_suspend(thread, frame, event, arg, suspend_type, from_this_thread, frames_tracker)\n",
      "  File \"C:\\Users\\griho\\AppData\\Roaming\\Python\\Python310\\site-packages\\debugpy\\_vendored\\pydevd\\pydevd.py\", line 2098, in _do_wait_suspend\n",
      "    time.sleep(0.01)\n",
      "KeyboardInterrupt\n"
     ]
    },
    {
     "ename": "KeyboardInterrupt",
     "evalue": "",
     "output_type": "error",
     "traceback": [
      "\u001b[1;31m---------------------------------------------------------------------------\u001b[0m",
      "\u001b[1;31mKeyboardInterrupt\u001b[0m                         Traceback (most recent call last)",
      "\u001b[1;32mc:\\Users\\griho\\OneDrive\\Рабочий стол\\Курсовая работа\\Двумерный случай\\Код\\ThermalDestruction2D.ipynb Cell 2\u001b[0m in \u001b[0;36m2\n\u001b[0;32m      <a href='vscode-notebook-cell:/c%3A/Users/griho/OneDrive/%D0%A0%D0%B0%D0%B1%D0%BE%D1%87%D0%B8%D0%B9%20%D1%81%D1%82%D0%BE%D0%BB/%D0%9A%D1%83%D1%80%D1%81%D0%BE%D0%B2%D0%B0%D1%8F%20%D1%80%D0%B0%D0%B1%D0%BE%D1%82%D0%B0/%D0%94%D0%B2%D1%83%D0%BC%D0%B5%D1%80%D0%BD%D1%8B%D0%B9%20%D1%81%D0%BB%D1%83%D1%87%D0%B0%D0%B9/%D0%9A%D0%BE%D0%B4/ThermalDestruction2D.ipynb#W1sZmlsZQ%3D%3D?line=0'>1</a>\u001b[0m \u001b[39m# mesh = Mesh(\"mesh_big.xml\")\u001b[39;00m\n\u001b[1;32m----> <a href='vscode-notebook-cell:/c%3A/Users/griho/OneDrive/%D0%A0%D0%B0%D0%B1%D0%BE%D1%87%D0%B8%D0%B9%20%D1%81%D1%82%D0%BE%D0%BB/%D0%9A%D1%83%D1%80%D1%81%D0%BE%D0%B2%D0%B0%D1%8F%20%D1%80%D0%B0%D0%B1%D0%BE%D1%82%D0%B0/%D0%94%D0%B2%D1%83%D0%BC%D0%B5%D1%80%D0%BD%D1%8B%D0%B9%20%D1%81%D0%BB%D1%83%D1%87%D0%B0%D0%B9/%D0%9A%D0%BE%D0%B4/ThermalDestruction2D.ipynb#W1sZmlsZQ%3D%3D?line=1'>2</a>\u001b[0m L \u001b[39m=\u001b[39m \u001b[39m0.003\u001b[39m\n\u001b[0;32m      <a href='vscode-notebook-cell:/c%3A/Users/griho/OneDrive/%D0%A0%D0%B0%D0%B1%D0%BE%D1%87%D0%B8%D0%B9%20%D1%81%D1%82%D0%BE%D0%BB/%D0%9A%D1%83%D1%80%D1%81%D0%BE%D0%B2%D0%B0%D1%8F%20%D1%80%D0%B0%D0%B1%D0%BE%D1%82%D0%B0/%D0%94%D0%B2%D1%83%D0%BC%D0%B5%D1%80%D0%BD%D1%8B%D0%B9%20%D1%81%D0%BB%D1%83%D1%87%D0%B0%D0%B9/%D0%9A%D0%BE%D0%B4/ThermalDestruction2D.ipynb#W1sZmlsZQ%3D%3D?line=2'>3</a>\u001b[0m E \u001b[39m=\u001b[39m \u001b[39m1.75\u001b[39m\u001b[39m*\u001b[39m\u001b[39m1e+11\u001b[39m\n\u001b[0;32m      <a href='vscode-notebook-cell:/c%3A/Users/griho/OneDrive/%D0%A0%D0%B0%D0%B1%D0%BE%D1%87%D0%B8%D0%B9%20%D1%81%D1%82%D0%BE%D0%BB/%D0%9A%D1%83%D1%80%D1%81%D0%BE%D0%B2%D0%B0%D1%8F%20%D1%80%D0%B0%D0%B1%D0%BE%D1%82%D0%B0/%D0%94%D0%B2%D1%83%D0%BC%D0%B5%D1%80%D0%BD%D1%8B%D0%B9%20%D1%81%D0%BB%D1%83%D1%87%D0%B0%D0%B9/%D0%9A%D0%BE%D0%B4/ThermalDestruction2D.ipynb#W1sZmlsZQ%3D%3D?line=3'>4</a>\u001b[0m nu \u001b[39m=\u001b[39m \u001b[39m0.316\u001b[39m\n",
      "\u001b[1;32mc:\\Users\\griho\\OneDrive\\Рабочий стол\\Курсовая работа\\Двумерный случай\\Код\\ThermalDestruction2D.ipynb Cell 2\u001b[0m in \u001b[0;36m2\n\u001b[0;32m      <a href='vscode-notebook-cell:/c%3A/Users/griho/OneDrive/%D0%A0%D0%B0%D0%B1%D0%BE%D1%87%D0%B8%D0%B9%20%D1%81%D1%82%D0%BE%D0%BB/%D0%9A%D1%83%D1%80%D1%81%D0%BE%D0%B2%D0%B0%D1%8F%20%D1%80%D0%B0%D0%B1%D0%BE%D1%82%D0%B0/%D0%94%D0%B2%D1%83%D0%BC%D0%B5%D1%80%D0%BD%D1%8B%D0%B9%20%D1%81%D0%BB%D1%83%D1%87%D0%B0%D0%B9/%D0%9A%D0%BE%D0%B4/ThermalDestruction2D.ipynb#W1sZmlsZQ%3D%3D?line=0'>1</a>\u001b[0m \u001b[39m# mesh = Mesh(\"mesh_big.xml\")\u001b[39;00m\n\u001b[1;32m----> <a href='vscode-notebook-cell:/c%3A/Users/griho/OneDrive/%D0%A0%D0%B0%D0%B1%D0%BE%D1%87%D0%B8%D0%B9%20%D1%81%D1%82%D0%BE%D0%BB/%D0%9A%D1%83%D1%80%D1%81%D0%BE%D0%B2%D0%B0%D1%8F%20%D1%80%D0%B0%D0%B1%D0%BE%D1%82%D0%B0/%D0%94%D0%B2%D1%83%D0%BC%D0%B5%D1%80%D0%BD%D1%8B%D0%B9%20%D1%81%D0%BB%D1%83%D1%87%D0%B0%D0%B9/%D0%9A%D0%BE%D0%B4/ThermalDestruction2D.ipynb#W1sZmlsZQ%3D%3D?line=1'>2</a>\u001b[0m L \u001b[39m=\u001b[39m \u001b[39m0.003\u001b[39m\n\u001b[0;32m      <a href='vscode-notebook-cell:/c%3A/Users/griho/OneDrive/%D0%A0%D0%B0%D0%B1%D0%BE%D1%87%D0%B8%D0%B9%20%D1%81%D1%82%D0%BE%D0%BB/%D0%9A%D1%83%D1%80%D1%81%D0%BE%D0%B2%D0%B0%D1%8F%20%D1%80%D0%B0%D0%B1%D0%BE%D1%82%D0%B0/%D0%94%D0%B2%D1%83%D0%BC%D0%B5%D1%80%D0%BD%D1%8B%D0%B9%20%D1%81%D0%BB%D1%83%D1%87%D0%B0%D0%B9/%D0%9A%D0%BE%D0%B4/ThermalDestruction2D.ipynb#W1sZmlsZQ%3D%3D?line=2'>3</a>\u001b[0m E \u001b[39m=\u001b[39m \u001b[39m1.75\u001b[39m\u001b[39m*\u001b[39m\u001b[39m1e+11\u001b[39m\n\u001b[0;32m      <a href='vscode-notebook-cell:/c%3A/Users/griho/OneDrive/%D0%A0%D0%B0%D0%B1%D0%BE%D1%87%D0%B8%D0%B9%20%D1%81%D1%82%D0%BE%D0%BB/%D0%9A%D1%83%D1%80%D1%81%D0%BE%D0%B2%D0%B0%D1%8F%20%D1%80%D0%B0%D0%B1%D0%BE%D1%82%D0%B0/%D0%94%D0%B2%D1%83%D0%BC%D0%B5%D1%80%D0%BD%D1%8B%D0%B9%20%D1%81%D0%BB%D1%83%D1%87%D0%B0%D0%B9/%D0%9A%D0%BE%D0%B4/ThermalDestruction2D.ipynb#W1sZmlsZQ%3D%3D?line=3'>4</a>\u001b[0m nu \u001b[39m=\u001b[39m \u001b[39m0.316\u001b[39m\n",
      "File \u001b[1;32m_pydevd_bundle/pydevd_cython.pyx:1443\u001b[0m, in \u001b[0;36m_pydevd_bundle.pydevd_cython.SafeCallWrapper.__call__\u001b[1;34m()\u001b[0m\n",
      "File \u001b[1;32m_pydevd_bundle/pydevd_cython.pyx:700\u001b[0m, in \u001b[0;36m_pydevd_bundle.pydevd_cython.PyDBFrame.trace_dispatch\u001b[1;34m()\u001b[0m\n",
      "File \u001b[1;32m_pydevd_bundle/pydevd_cython.pyx:1143\u001b[0m, in \u001b[0;36m_pydevd_bundle.pydevd_cython.PyDBFrame.trace_dispatch\u001b[1;34m()\u001b[0m\n",
      "File \u001b[1;32m_pydevd_bundle/pydevd_cython.pyx:1134\u001b[0m, in \u001b[0;36m_pydevd_bundle.pydevd_cython.PyDBFrame.trace_dispatch\u001b[1;34m()\u001b[0m\n",
      "File \u001b[1;32m_pydevd_bundle/pydevd_cython.pyx:311\u001b[0m, in \u001b[0;36m_pydevd_bundle.pydevd_cython.PyDBFrame.do_wait_suspend\u001b[1;34m()\u001b[0m\n",
      "File \u001b[1;32m~\\AppData\\Roaming\\Python\\Python310\\site-packages\\debugpy\\_vendored\\pydevd\\pydevd.py:2062\u001b[0m, in \u001b[0;36mPyDB.do_wait_suspend\u001b[1;34m(self, thread, frame, event, arg, exception_type)\u001b[0m\n\u001b[0;32m   2059\u001b[0m             from_this_thread\u001b[39m.\u001b[39mappend(frame_custom_thread_id)\n\u001b[0;32m   2061\u001b[0m     \u001b[39mwith\u001b[39;00m \u001b[39mself\u001b[39m\u001b[39m.\u001b[39m_threads_suspended_single_notification\u001b[39m.\u001b[39mnotify_thread_suspended(thread_id, stop_reason):\n\u001b[1;32m-> 2062\u001b[0m         keep_suspended \u001b[39m=\u001b[39m \u001b[39mself\u001b[39;49m\u001b[39m.\u001b[39;49m_do_wait_suspend(thread, frame, event, arg, suspend_type, from_this_thread, frames_tracker)\n\u001b[0;32m   2064\u001b[0m frames_list \u001b[39m=\u001b[39m \u001b[39mNone\u001b[39;00m\n\u001b[0;32m   2066\u001b[0m \u001b[39mif\u001b[39;00m keep_suspended:\n\u001b[0;32m   2067\u001b[0m     \u001b[39m# This means that we should pause again after a set next statement.\u001b[39;00m\n",
      "File \u001b[1;32m~\\AppData\\Roaming\\Python\\Python310\\site-packages\\debugpy\\_vendored\\pydevd\\pydevd.py:2098\u001b[0m, in \u001b[0;36mPyDB._do_wait_suspend\u001b[1;34m(self, thread, frame, event, arg, suspend_type, from_this_thread, frames_tracker)\u001b[0m\n\u001b[0;32m   2095\u001b[0m         \u001b[39mself\u001b[39m\u001b[39m.\u001b[39m_call_input_hook()\n\u001b[0;32m   2097\u001b[0m     \u001b[39mself\u001b[39m\u001b[39m.\u001b[39mprocess_internal_commands()\n\u001b[1;32m-> 2098\u001b[0m     time\u001b[39m.\u001b[39;49msleep(\u001b[39m0.01\u001b[39;49m)\n\u001b[0;32m   2100\u001b[0m \u001b[39mself\u001b[39m\u001b[39m.\u001b[39mcancel_async_evaluation(get_current_thread_id(thread), \u001b[39mstr\u001b[39m(\u001b[39mid\u001b[39m(frame)))\n\u001b[0;32m   2102\u001b[0m \u001b[39m# process any stepping instructions\u001b[39;00m\n",
      "\u001b[1;31mKeyboardInterrupt\u001b[0m: "
     ]
    }
   ],
   "source": [
    "# mesh = Mesh(\"mesh_big.xml\")\n",
    "L = 0.003\n",
    "E = 1.75*1e+11\n",
    "nu = 0.316\n",
    "lmbda = (E*nu/((1+nu)*(1-2*nu)))\n",
    "mu = (E/2/(1+nu))\n",
    "alpha = 1e-5 # коэффициент теплового расширения\n",
    "kappa = (alpha/(3*mu + 2*lmbda))\n",
    "d = 1 # interpolation degree\n",
    "Vue = VectorElement('CG', mesh.ufl_cell(), d)\n",
    "# displacement finite element\n",
    "V = FunctionSpace(mesh, Vue)\n",
    "dU = TrialFunction(V)\n",
    "t = 1\n",
    "a = -1000\n",
    "dT = a*t*sqrt((x[0] - L/2)*(x[0] - L/2) + (x[1] - L/2)*(x[1] - L/2))\n",
    "dT010 = Expression('a*t*(x[1] - L/2)/(sqrt((x[0]- L/2)*(x[0] - L/2) + (x[1] - L/2)*(x[1] - L/2)) + 1e-16)',\n",
    "degree=2, t = t, a = a, L = L)\n",
    "dT100 = Expression('a*t*(x[0] - L/2)/(sqrt((x[0] -L/2)*(x[0] - L/2) + (x[1] - L/2)*(x[1] - L/2)) + 1e-16)',\n",
    "degree=2, t = t, a = a, L = L)"
   ]
  },
  {
   "cell_type": "code",
   "execution_count": null,
   "metadata": {},
   "outputs": [],
   "source": [
    "def boundary_D(x, on_boundary):\n",
    "    L = 0.003\n",
    "    tol = 1e-16\n",
    "    return on_boundary and (near(0, x[1], tol)\n",
    "    or near(L, x[1], tol) or near(x[0], L, tol) )\n",
    "def boundary(x, on_boundary):\n",
    "    return on_boundary"
   ]
  },
  {
   "cell_type": "code",
   "execution_count": null,
   "metadata": {},
   "outputs": [],
   "source": [
    "def eps(v):\n",
    "    return sym(grad(v))\n",
    "def strain2voigt(e):\n",
    "    return as_vector([e[0,0],e[1,1],2*e[0,1]])\n",
    "def voigt2stress(s):\n",
    "    return as_tensor([[s[0], s[2]],\n",
    "[s[2], s[1]]])\n",
    "def sigma(v):\n",
    "    return voigt2stress(dot(C, strain2voigt(eps(v))))"
   ]
  },
  {
   "cell_type": "code",
   "execution_count": null,
   "metadata": {},
   "outputs": [],
   "source": [
    "sigma_xx = Expression('lmbda*(1 - nu)/nu*(eps_xx) + lmbda*(eps_yy - alpha*dT) ', degree=2, nu = nu, \n",
    "    alpha = alpha, dT = dT, lmbda = lmbda, eps_xx = eps_xx, eps_yy = eps_yy)\n",
    "sigma_yy = Expression('lmbda*(1 - nu)/nu*(eps_yy) +lmbda*(eps_xx - alpha*dT) ', degree=2, nu = nu,\n",
    "alpha = alpha, dT = dT, lmbda = lmbda, eps_xx = eps_xx, eps_yy = eps_yy)\n",
    "sigma_xy = Expression('2*mu*eps_xy ', degree=2, E = E, nu = nu, alpha = alpha, t = t, dT = dT, eps_xy = eps_xy, mu = mu)"
   ]
  },
  {
   "cell_type": "code",
   "execution_count": null,
   "metadata": {},
   "outputs": [],
   "source": [
    "g5 = Expression(('-sigma_xx ’’’, ’’’ -sigma_xy '), degree=2, sigma_xx = sigma_xx, sigma_xy = sigma_xy,\n",
    "sigma_yy = sigma_yy )"
   ]
  },
  {
   "cell_type": "code",
   "execution_count": null,
   "metadata": {},
   "outputs": [],
   "source": [
    "U = Function(V)\n",
    "aa = inner(sigma(dU), eps(U_))*dx"
   ]
  },
  {
   "cell_type": "code",
   "execution_count": null,
   "metadata": {},
   "outputs": [],
   "source": [
    "CalphadT = Expression(('(lmbda + lmbda*(1 - nu)/nu)*alpha*dT',\n",
    "'(lmbda + lmbda*(1 - nu)/nu)*alpha*dT'),\n",
    "degree=2, kappa = kappa, dT = dT, lmbda = lmbda,\n",
    "nu=nu, mu=mu, alpha = alpha)\n",
    "L = dot(b, U_)*dx + dot(CalphadT, U_)*dx\n",
    "+ dot(g5, U_)*ds"
   ]
  },
  {
   "cell_type": "code",
   "execution_count": null,
   "metadata": {},
   "outputs": [],
   "source": [
    "#finding the displacements\n",
    "solve(aa == L, U, bc, solver_parameters=\n",
    "{'linear_solver':'umfpack',\n",
    "'preconditioner':'ilu'})"
   ]
  },
  {
   "cell_type": "code",
   "execution_count": null,
   "metadata": {},
   "outputs": [],
   "source": [
    "#finding the stresses\n",
    "vertex_values_CalphadT = interpolate(CalphadT , V)\n",
    "stress = sigma(U)"
   ]
  },
  {
   "cell_type": "code",
   "execution_count": null,
   "metadata": {},
   "outputs": [],
   "source": [
    "error_L2 = errornorm(U_D, U, 'L2', mesh = mesh)/(norm(U_D, 'L2', mesh) + 1e-16)\n",
    "vertex_values_U_D = U_D.compute_vertex_values(mesh)\n",
    "vertex_values_U = U.compute_vertex_values(mesh)\n",
    "error_max = np.max(np.abs(vertex_values_U_D - vertex_values_U))/np.max(np.abs(vertex_values_U_D))\n",
    "print(error_L2, error_max)"
   ]
  },
  {
   "cell_type": "code",
   "execution_count": null,
   "metadata": {},
   "outputs": [],
   "source": []
  }
 ],
 "metadata": {
  "kernelspec": {
   "display_name": "Python 3",
   "language": "python",
   "name": "python3"
  },
  "language_info": {
   "codemirror_mode": {
    "name": "ipython",
    "version": 3
   },
   "file_extension": ".py",
   "mimetype": "text/x-python",
   "name": "python",
   "nbconvert_exporter": "python",
   "pygments_lexer": "ipython3",
   "version": "3.10.7"
  },
  "orig_nbformat": 4,
  "vscode": {
   "interpreter": {
    "hash": "3f885a4b7a69a006dee86a89cfa27939783cd21011a51a27a075a04530a046ce"
   }
  }
 },
 "nbformat": 4,
 "nbformat_minor": 2
}
